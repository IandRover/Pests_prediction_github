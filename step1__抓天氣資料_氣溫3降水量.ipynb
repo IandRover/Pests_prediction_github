{
 "cells": [
  {
   "cell_type": "markdown",
   "metadata": {},
   "source": [
    "### 要建立預測模型，我們先需要有很多資料\n",
    "### 由於本次是要透過天氣資料來預測害蟲的數量，因此我們先需要抓取氣象的網頁，並儲存到指定到指定資料夾"
   ]
  },
  {
   "cell_type": "markdown",
   "metadata": {},
   "source": [
    "#### 在這一部份，我們要先宣告會用到的函數庫\n",
    "#### random用於抓取間隔時間的抓取，因為如果用常數固定時間休息的話，系統似乎會抓到-------credit(經驗)\n",
    "#### os 是要確定我們的電腦中是否已經存在某一個文檔，如果有的話，我們就可以不要浪費力氣抓取資料了\n",
    "#### 使用urllib, requests, socket 來抓取資料，並設定代理人ID\n",
    "#### 使用csv來讀取檔案，不過存檔是用txt啦!!"
   ]
  },
  {
   "cell_type": "code",
   "execution_count": 1,
   "metadata": {
    "collapsed": false,
    "scrolled": true
   },
   "outputs": [],
   "source": [
    "import random\n",
    "import time\n",
    "\n",
    "import os\n",
    "import sys #used for passing in the argument\n",
    "\n",
    "import urllib\n",
    "import requests\n",
    "import socket\n",
    "import urllib.request,urllib.parse,urllib.error\n",
    "\n",
    "import csv\n",
    "\n",
    "proxy_support = urllib.request.ProxyHandler({'sock5': 'localhost:1080'})\n",
    "opener = urllib.request.build_opener(proxy_support)\n",
    "urllib.request.install_opener(opener)"
   ]
  },
  {
   "cell_type": "markdown",
   "metadata": {},
   "source": [
    "### 用read_data()來讀取 地區資料 與 東方果實蠅的數量資料\n",
    "#### 地區資料的資料為: 縣名   鄉鎮市名  測站ID  測站長ID   經度  緯度\n",
    "#### 蔬果重要害蟲防疫旬報_東方果實蠅數據的資料型態為: 縣名   鄉鎮市名  年  月   旬  本旬東方果實蠅數據  上一旬東方果實蠅數據\n",
    "##### 由於之後的預測並不會使用道上一旬東方果實蠅的數量數據，所以之後會把它拿掉\n",
    "##### 讀取成  list of list 的型態"
   ]
  },
  {
   "cell_type": "code",
   "execution_count": 2,
   "metadata": {
    "collapsed": true
   },
   "outputs": [],
   "source": [
    "def read_data():\n",
    "    with open('地區資訊new.csv', 'r') as f:  #opens PW file\n",
    "        reader = csv.reader(f)\n",
    "        di = list(list(rec) for rec in csv.reader(f, delimiter=',')) #reads csv into a list of lists\n",
    "        f.close()\n",
    "\n",
    "    with open('蔬果重要害蟲防疫旬報_東方果實蠅數據_new.csv','r') as f:\n",
    "        reader = csv.reader(f)\n",
    "        df = list(list(rec) for rec in csv.reader(f, delimiter=','))\n",
    "        #data_fly\n",
    "        f.close()\n",
    "    return di, df"
   ]
  },
  {
   "cell_type": "markdown",
   "metadata": {},
   "source": [
    "###  獲取當天的日期，告訴系統說，資料抓到前一個月就好了，不用繼續抓下去"
   ]
  },
  {
   "cell_type": "code",
   "execution_count": 3,
   "metadata": {
    "collapsed": true
   },
   "outputs": [],
   "source": [
    "def today_date():\n",
    "    import time\n",
    "    ## dd/mm/yyyy格式\n",
    "    today_date_year = time.strftime(\"%Y\")\n",
    "    today_date_month = time.strftime(\"%m\").strip('0')\n",
    "    today_date_day = time.strftime(\"%d\")\n",
    "    today_date = today_date_year + today_date_month + today_date_day\n",
    "    return today_date_year, today_date_month, today_date_day"
   ]
  },
  {
   "cell_type": "markdown",
   "metadata": {},
   "source": [
    "### 原本是主程式，後來改使用函數帶過去\n",
    "#### 這是最重要的函式，包含著主要抓取網頁的程式碼\n",
    "####  資料儲存成filename = 縣名  鄉鎮市區名  年  月.txt  ##(十月以前的月都沒有加上零喔)"
   ]
  },
  {
   "cell_type": "code",
   "execution_count": null,
   "metadata": {
    "collapsed": true
   },
   "outputs": [],
   "source": [
    "def get_information(row, year, month):\n",
    "    \n",
    "    proxy_support = urllib.request.ProxyHandler({'sock5': 'localhost:1080'})\n",
    "    opener = urllib.request.build_opener(proxy_support)\n",
    "    urllib.request.install_opener(opener)\n",
    "    \n",
    "    if month < 10:\n",
    "        url ='http://e-service.cwb.gov.tw/HistoryDataQuery/MonthDataController.do?command=viewMain&station='+str(row[2])+'&stname='+str(row[5])+'&datepicker='+str(year)+'-0'+str(month)  \n",
    "    else:\n",
    "        url ='http://e-service.cwb.gov.tw/HistoryDataQuery/MonthDataController.do?command=viewMain&station='+str(row[2])+'&stname='+str(row[5])+'&datepicker='+str(year)+'-'+str(month)  \n",
    "    time.sleep(random.randint(40,45))\n",
    "    \n",
    "    try:\n",
    "        response = urllib.request.urlopen(url)\n",
    "        html = response.read()\n",
    "        errorc=0\n",
    "        \n",
    "    except urllib.error.URLError as e:\n",
    "        if hasattr(e, 'reason'):\n",
    "            print('We failed to reach a server.')\n",
    "            print('Reason: ', e.reason)\n",
    "            errorc=1\n",
    "            pass\n",
    "        elif hasattr(e, 'code'):\n",
    "            print('The server couldn\\'t fulfill the request.')\n",
    "            print('Error code: ', e.code)\n",
    "            errorc=1\n",
    "            pass\n",
    "    else:\n",
    "        print('everything is fine')\n",
    "                \n",
    "    if errorc==0:\n",
    "        filename = 'C:\\\\Users\\\\Aaron\\\\weather\\\\' + str(row[0]) + str(row[1]) + str(year) + str(month) + '.txt'\n",
    "        print(filename)\n",
    "        with open(filename, 'w') as f:\n",
    "            f.write(str(html))\n",
    "            f.close()\n",
    "        time.sleep(random.randint(4,14))"
   ]
  },
  {
   "cell_type": "markdown",
   "metadata": {},
   "source": [
    "###  這邊是主程式\n",
    "### 其步驟如下:\n",
    "##### 1. 讀取  地區資訊  和  蔬果重要害蟲防疫旬報_東方果實蠅數據  成 list of list \n",
    "##### 2. 對於每一個    鄉鎮縣市   年    月   去抓取網頁。其實大可直接   從蔬果重要害蟲防疫旬報_東方果實蠅數據   抓取，但是完成網址url需要測站ID % 長 ID，所以這樣比較方便"
   ]
  },
  {
   "cell_type": "code",
   "execution_count": null,
   "metadata": {
    "collapsed": false
   },
   "outputs": [
    {
     "name": "stdout",
     "output_type": "stream",
     "text": [
      "台中市 石岡區\n",
      "台中市 后里區\n",
      "台中市 和平區\n",
      "台中市 東勢區\n",
      "台東縣 台東地區\n",
      "台南市 大內區\n",
      "台南市 玉井區\n",
      "台南市 官田區\n",
      "台南市 東山區\n",
      "台南市 南化區\n",
      "宜蘭縣 冬山鄉\n",
      "宜蘭縣 員山鄉\n",
      "宜蘭縣 頭城鎮\n",
      "花蓮縣 玉溪地區\n",
      "花蓮縣 花蓮市\n",
      "花蓮縣 富里鄉\n",
      "花蓮縣 瑞穗鄉\n",
      "金門縣 金門地區\n",
      "南投縣 中寮鄉\n",
      "南投縣 水里鄉\n",
      "南投縣 埔里鎮\n",
      "屏東縣 里港鄉\n",
      "屏東縣 佳冬鄉\n",
      "屏東縣 枋山地區\n",
      "屏東縣 枋寮地區\n",
      "屏東縣 長治鄉\n",
      "屏東縣 高樹鄉\n",
      "屏東縣 麟洛鄉\n",
      "苗栗縣 三灣鄉\n",
      "苗栗縣 公館鄉\n",
      "苗栗縣 卓蘭鎮\n",
      "桃園市 大溪區\n",
      "桃園市 復興區\n",
      "桃園市 龍潭區\n",
      "高雄市 大社區\n",
      "高雄市 六龜區\n",
      "高雄市 田寮區\n",
      "高雄市 杉林區\n",
      "高雄市 阿蓮區\n",
      "高雄市 旗山區\n",
      "高雄市 燕巢區\n",
      "雲林縣 斗六市\n",
      "everything is fine\n",
      "C:\\Users\\Aaron\\weather\\雲林縣斗六市201410.txt\n"
     ]
    }
   ],
   "source": [
    "di, df = read_data()\n",
    "di = di[1:]\n",
    "df = df[2:]\n",
    "#data = remove_99999(df)\n",
    "limitc=0\n",
    "\n",
    "start = 3\n",
    "end = 34\n",
    "for row in di:\n",
    "    print(row[0],row[1])\n",
    "    last_url = ''\n",
    "    for year in [2013,2014,2015,2016]:\n",
    "        for month in range(1,13):\n",
    "            a = 0\n",
    "            filename = 'C:\\\\Users\\\\Aaron\\\\weather\\\\' + str(row[0]) + str(row[1]) + str(year) + str(month) + '.txt'\n",
    "            if os.path.isfile(filename):\n",
    "                a = 1\n",
    "                continue\n",
    "            today_date_year, today_date_month, today_date_day = today_date()\n",
    "            if int(today_date_year) <= year and int(today_date_month) <= month:\n",
    "                continue\n",
    "            get_information(row, year, month)\n",
    "            time.sleep(10.3)\n",
    "            proxy_support = urllib.request.ProxyHandler({'sock5': 'localhost:1080'})\n",
    "            opener = urllib.request.build_opener(proxy_support)\n",
    "            urllib.request.install_opener(opener)\n",
    "            a = 2\n",
    "            #C:\\Users\\Aaron\\天氣資料夾\n",
    "        if a == 2:\n",
    "            time.sleep(random.randint(4,15))\n",
    "    if a == 2:\n",
    "        time.sleep(random.randint(10,25))"
   ]
  }
 ],
 "metadata": {
  "kernelspec": {
   "display_name": "Python 3",
   "language": "python",
   "name": "python3"
  },
  "language_info": {
   "codemirror_mode": {
    "name": "ipython",
    "version": 3
   },
   "file_extension": ".py",
   "mimetype": "text/x-python",
   "name": "python",
   "nbconvert_exporter": "python",
   "pygments_lexer": "ipython3",
   "version": "3.5.1"
  }
 },
 "nbformat": 4,
 "nbformat_minor": 0
}
