{
 "cells": [
  {
   "cell_type": "code",
   "execution_count": 1,
   "metadata": {
    "collapsed": true
   },
   "outputs": [],
   "source": [
    "from stlist import stList\n",
    "import requests as rq\n",
    "from bs4 import BeautifulSoup as bs\n",
    "import time as t\n",
    "import random\n",
    "import os\n",
    "import pandas as pd\n",
    "import sqlite3 as sql\n",
    "import datetime\n"
   ]
  },
  {
   "cell_type": "markdown",
   "metadata": {},
   "source": [
    "### 建立與 CWB CODiS 查詢頁面連線，將頁面中的測站資料爬下，與現有測站資料比對，\n",
    "#### 若有新測站，則更新現有檔案"
   ]
  },
  {
   "cell_type": "code",
   "execution_count": null,
   "metadata": {
    "collapsed": true
   },
   "outputs": [],
   "source": [
    "st_http = \"http://e-service.cwb.gov.tw/HistoryDataQuery/QueryDataController.do?command=viewMain&_=1473065277608\"\n",
    "\n",
    "soup = bs(rq.get(st_http).text, \"html.parser\")\n",
    "\n",
    "list_text = soup.find(\"script\",type=\"text/javascript\").text\n",
    "head = list_text.find(\"var stList =\") + 13\n",
    "end = list_text[head:].find(\"}\")\n",
    "var = bs(list_text[head:head+end+1],\"html.parser\")\n",
    "newList = eval(var.text)\n",
    "\n",
    "for key in newList.keys():\n",
    "    for i in range(len(newList[key])):\n",
    "        newList[key][i] = newList[key][i].strip()\n",
    "\n",
    "#print(newList)                                                                                                                              \n",
    "if newList != stList:\n",
    "    os.rename(\"./stlist.py\", \"./stlist_old.py\")\n",
    "    with open(\"./stlist.py\", \"w+\") as fw:\n",
    "        fw.write(\"stList=\")\n",
    "        fw.write(str(newList))\n",
    "\n"
   ]
  },
  {
   "cell_type": "markdown",
   "metadata": {},
   "source": [
    "#### 將所有測站從 2013/1/1~2016/8/31 的資料爬下寫入資料夾\n",
    "##### 檔名為 <編號>_<測站ID>_<站名>_<縣市>/<日期>_<編號>_<測站ID>_<站名>.html"
   ]
  },
  {
   "cell_type": "code",
   "execution_count": null,
   "metadata": {
    "collapsed": true
   },
   "outputs": [],
   "source": [
    "http = \"http://e-service.cwb.gov.tw/HistoryDataQuery/MonthDataController.do?command=viewMain&station=%s&stname=%s&datepicker=%d-%d\"\n",
    "\n",
    "proxies = {\n",
    "    'https': 'http://220.141.162.136:8080',\n",
    "}\n",
    "\n",
    "#z = 0                                                                                                                                       \n",
    "stl = list(stList.keys())\n",
    "def get_data(ID):\n",
    "    z = stl.index(ID)\n",
    "    StN_C = stList[ID][0]\n",
    "    StN = stList[ID][1]\n",
    "    County = stList[ID][2]\n",
    "    directory = \"./db_data/%d_%s_%s_%s/\" % (z,ID,StN_C, County)\n",
    "    if not os.path.exists(directory):\n",
    "        os.makedirs(directory)\n",
    "    for year in [2013, 2014, 2015, 2016]:\n",
    "        for month in range(1,13):\n",
    "            if not (year == 2016 and month in range(9,13)):\n",
    "                f = directory+\"%d-%d_%s_%s.html\" % (year, month, ID, StN)\n",
    "                if not os.path.exists(f):\n",
    "                    t.sleep(3)\n",
    "                    html = rq.get(http % (ID, StN, year, month), proxies=proxies)\n",
    "                    t.sleep(random.randint(0,5))\n",
    "                    with open(f , \"w+\") as fw:\n",
    "                        fw.write(html.text)\n",
    "                    #end write                                                                                                               \n",
    "                #end file                                                                                                                    \n",
    "    #end                  \n",
    "\n",
    "jobs = [get_data(ID) for ID in stList.keys()]\n"
   ]
  },
  {
   "cell_type": "markdown",
   "metadata": {},
   "source": [
    "#### 將 html 中需要的資料寫入 .db 檔\n",
    "##### 以年為 table \n",
    "##### 檔名為 <編號><測站ID><站名><縣市>.db"
   ]
  },
  {
   "cell_type": "code",
   "execution_count": null,
   "metadata": {
    "collapsed": true
   },
   "outputs": [],
   "source": [
    "stl = list(stList.keys())\n",
    "db_path = \"./db/%s.db\"\n",
    "target_dir = [i for i in os.listdir(\"./data\") if os.path.isdir(\"./data/\"+i)]\n",
    "\n",
    "def make_db(directory):\n",
    "    for _html in sorted(os.listdir(\"./data/\"+directory), key=lambda x: datetime.datetime.strptime(x[:6] if x[6]==\"_\" else x[:7], '%Y-%m')):\n",
    "        year = _html[:4]\n",
    "        date = _html[:6] if _html[6]=='_' else _html[:7]\n",
    "        with open(\"./data/%s/%s\" % (directory, _html), \"r+\") as html:\n",
    "            sp = bs(html, \"lxml\")\n",
    "        sp.tbody.name = \"table\"\n",
    "        table = sp.find_all(\"table\")[1]\n",
    "        table.table.tr.replace_with(\"\")\n",
    "        Df = pd.read_html(str(table.table), flavor=\"bs4\", header=0)[0]\n",
    "        data = Df[[\"觀測時間(LST)ObsTime\",\"測站氣壓(hPa)StnPres\",\"氣溫(℃)Temperature\",\"最高氣溫(℃)T Max\",\"最低氣溫(℃)T Min\",\"相對溼度(%)R\\\n",
    "H\",\"風速(m/s)WS\",\"降水量(mm)Precp\"]]\n",
    "        data[\"觀測時間(LST)ObsTime\"] = data[\"觀測時間(LST)ObsTime\"].apply(lambda x: date+\"-\"+str(x))\n",
    "        db = sql.connect(db_path % directory)\n",
    "        data.to_sql(year, db, if_exists=\"append\", index=False)\n",
    "        db.close()\n",
    "\n",
    "\n",
    "jobs = [make_db(directory) for directory in target_dir]\n"
   ]
  },
  {
   "cell_type": "code",
   "execution_count": 5,
   "metadata": {
    "collapsed": false
   },
   "outputs": [
    {
     "name": "stdout",
     "output_type": "stream",
     "text": [
      "README.rst\r\n",
      "\u001b[34m__pycache__\u001b[m\u001b[m/\r\n",
      "\u001b[34mdata\u001b[m\u001b[m/\r\n",
      "\u001b[34mdb\u001b[m\u001b[m/\r\n",
      "\u001b[34mdb_data\u001b[m\u001b[m/\r\n",
      "step 3 -- SVM 東方果實蠅預測模型_新_PLOT_BOX + Test with PCA.ipynb\r\n",
      "step 5--東方果實蠅預測模型-dia-Copy1-pest.ipynb\r\n",
      "step 5--東方果實蠅預測模型-dia-Copy1.ipynb\r\n",
      "step0_build_database.ipynb\r\n",
      "step1__抓天氣資料_氣溫3降水量.ipynb\r\n",
      "step2__整理資料.ipynb\r\n",
      "step4.5__抓最近九天的天氣資料-更新每天早上資料.ipynb\r\n",
      "step4__抓最近九天的天氣資料.ipynb\r\n",
      "stlist.py\r\n"
     ]
    }
   ],
   "source": [
    "ls"
   ]
  },
  {
   "cell_type": "code",
   "execution_count": null,
   "metadata": {
    "collapsed": true
   },
   "outputs": [],
   "source": []
  }
 ],
 "metadata": {
  "kernelspec": {
   "display_name": "Python 3",
   "language": "python",
   "name": "python3"
  },
  "language_info": {
   "codemirror_mode": {
    "name": "ipython",
    "version": 3
   },
   "file_extension": ".py",
   "mimetype": "text/x-python",
   "name": "python",
   "nbconvert_exporter": "python",
   "pygments_lexer": "ipython3",
   "version": "3.5.1"
  }
 },
 "nbformat": 4,
 "nbformat_minor": 0
}
